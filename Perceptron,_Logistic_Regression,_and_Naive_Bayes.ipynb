{
  "nbformat": 4,
  "nbformat_minor": 0,
  "metadata": {
    "colab": {
      "provenance": []
    },
    "kernelspec": {
      "name": "python3",
      "display_name": "Python 3"
    },
    "language_info": {
      "name": "python"
    }
  },
  "cells": [
    {
      "cell_type": "markdown",
      "metadata": {
        "id": "DCzr7kkTJ_q-"
      },
      "source": [
        "# Classification\n",
        "\n",
        "From lesson we learned that 3 approaches are possible for classification:\n",
        "- **Discriminant function approach**: \n",
        "  + model a *function* that maps inputs to classes\n",
        "  + fit model to data\n",
        "- **Probabilistic discriminative approach**: \n",
        "  + model a *conditional probability* $P(C_k | x)$\n",
        "  + fit model to data\n",
        "- **Probabilistic generative approach**:\n",
        "  + model *likelihood* $P(x | C_k)$ and *prior* $P(C_k)$\n",
        "  + fit models to data\n",
        "  + infer posterior $P(C_k | x) = \\frac{P(C_k)P(x|C_k)}{P(x)}$"
      ]
    },
    {
      "cell_type": "markdown",
      "metadata": {
        "id": "eM2M4e0VfjIv"
      },
      "source": [
        "## Iris dataset for classification\n",
        "\n",
        "In this session, we take into account again the Iris dataset.\n",
        "This time we are more interested in the discrimination of the sample class, i.e., either Setosa, Versicolor or Virginica."
      ]
    },
    {
      "cell_type": "code",
      "metadata": {
        "id": "-1CPHrt2JyRW"
      },
      "source": [
        "import pandas as pd\n",
        "import numpy as np\n",
        "import matplotlib.pyplot as plt\n",
        "\n",
        "url = \"https://archive.ics.uci.edu/ml/machine-learning-databases/iris/iris.data\"\n",
        "names = ['sepal-length', 'sepal-width', 'petal-length', 'petal-width', 'class']\n",
        "dataset = pd.read_csv(url, names=names)"
      ],
      "execution_count": 1,
      "outputs": []
    },
    {
      "cell_type": "code",
      "metadata": {
        "colab": {
          "base_uri": "https://localhost:8080/",
          "height": 206
        },
        "id": "55uHot9dGff5",
        "outputId": "d0be6aad-7eed-46a6-a9bf-6d3f924b97a5"
      },
      "source": [
        "dataset.head()"
      ],
      "execution_count": 2,
      "outputs": [
        {
          "output_type": "execute_result",
          "data": {
            "text/plain": [
              "   sepal-length  sepal-width  petal-length  petal-width        class\n",
              "0           5.1          3.5           1.4          0.2  Iris-setosa\n",
              "1           4.9          3.0           1.4          0.2  Iris-setosa\n",
              "2           4.7          3.2           1.3          0.2  Iris-setosa\n",
              "3           4.6          3.1           1.5          0.2  Iris-setosa\n",
              "4           5.0          3.6           1.4          0.2  Iris-setosa"
            ],
            "text/html": [
              "\n",
              "  <div id=\"df-6b9fd79e-4d1b-4f30-9552-1ceeef6ad123\">\n",
              "    <div class=\"colab-df-container\">\n",
              "      <div>\n",
              "<style scoped>\n",
              "    .dataframe tbody tr th:only-of-type {\n",
              "        vertical-align: middle;\n",
              "    }\n",
              "\n",
              "    .dataframe tbody tr th {\n",
              "        vertical-align: top;\n",
              "    }\n",
              "\n",
              "    .dataframe thead th {\n",
              "        text-align: right;\n",
              "    }\n",
              "</style>\n",
              "<table border=\"1\" class=\"dataframe\">\n",
              "  <thead>\n",
              "    <tr style=\"text-align: right;\">\n",
              "      <th></th>\n",
              "      <th>sepal-length</th>\n",
              "      <th>sepal-width</th>\n",
              "      <th>petal-length</th>\n",
              "      <th>petal-width</th>\n",
              "      <th>class</th>\n",
              "    </tr>\n",
              "  </thead>\n",
              "  <tbody>\n",
              "    <tr>\n",
              "      <th>0</th>\n",
              "      <td>5.1</td>\n",
              "      <td>3.5</td>\n",
              "      <td>1.4</td>\n",
              "      <td>0.2</td>\n",
              "      <td>Iris-setosa</td>\n",
              "    </tr>\n",
              "    <tr>\n",
              "      <th>1</th>\n",
              "      <td>4.9</td>\n",
              "      <td>3.0</td>\n",
              "      <td>1.4</td>\n",
              "      <td>0.2</td>\n",
              "      <td>Iris-setosa</td>\n",
              "    </tr>\n",
              "    <tr>\n",
              "      <th>2</th>\n",
              "      <td>4.7</td>\n",
              "      <td>3.2</td>\n",
              "      <td>1.3</td>\n",
              "      <td>0.2</td>\n",
              "      <td>Iris-setosa</td>\n",
              "    </tr>\n",
              "    <tr>\n",
              "      <th>3</th>\n",
              "      <td>4.6</td>\n",
              "      <td>3.1</td>\n",
              "      <td>1.5</td>\n",
              "      <td>0.2</td>\n",
              "      <td>Iris-setosa</td>\n",
              "    </tr>\n",
              "    <tr>\n",
              "      <th>4</th>\n",
              "      <td>5.0</td>\n",
              "      <td>3.6</td>\n",
              "      <td>1.4</td>\n",
              "      <td>0.2</td>\n",
              "      <td>Iris-setosa</td>\n",
              "    </tr>\n",
              "  </tbody>\n",
              "</table>\n",
              "</div>\n",
              "      <button class=\"colab-df-convert\" onclick=\"convertToInteractive('df-6b9fd79e-4d1b-4f30-9552-1ceeef6ad123')\"\n",
              "              title=\"Convert this dataframe to an interactive table.\"\n",
              "              style=\"display:none;\">\n",
              "        \n",
              "  <svg xmlns=\"http://www.w3.org/2000/svg\" height=\"24px\"viewBox=\"0 0 24 24\"\n",
              "       width=\"24px\">\n",
              "    <path d=\"M0 0h24v24H0V0z\" fill=\"none\"/>\n",
              "    <path d=\"M18.56 5.44l.94 2.06.94-2.06 2.06-.94-2.06-.94-.94-2.06-.94 2.06-2.06.94zm-11 1L8.5 8.5l.94-2.06 2.06-.94-2.06-.94L8.5 2.5l-.94 2.06-2.06.94zm10 10l.94 2.06.94-2.06 2.06-.94-2.06-.94-.94-2.06-.94 2.06-2.06.94z\"/><path d=\"M17.41 7.96l-1.37-1.37c-.4-.4-.92-.59-1.43-.59-.52 0-1.04.2-1.43.59L10.3 9.45l-7.72 7.72c-.78.78-.78 2.05 0 2.83L4 21.41c.39.39.9.59 1.41.59.51 0 1.02-.2 1.41-.59l7.78-7.78 2.81-2.81c.8-.78.8-2.07 0-2.86zM5.41 20L4 18.59l7.72-7.72 1.47 1.35L5.41 20z\"/>\n",
              "  </svg>\n",
              "      </button>\n",
              "      \n",
              "  <style>\n",
              "    .colab-df-container {\n",
              "      display:flex;\n",
              "      flex-wrap:wrap;\n",
              "      gap: 12px;\n",
              "    }\n",
              "\n",
              "    .colab-df-convert {\n",
              "      background-color: #E8F0FE;\n",
              "      border: none;\n",
              "      border-radius: 50%;\n",
              "      cursor: pointer;\n",
              "      display: none;\n",
              "      fill: #1967D2;\n",
              "      height: 32px;\n",
              "      padding: 0 0 0 0;\n",
              "      width: 32px;\n",
              "    }\n",
              "\n",
              "    .colab-df-convert:hover {\n",
              "      background-color: #E2EBFA;\n",
              "      box-shadow: 0px 1px 2px rgba(60, 64, 67, 0.3), 0px 1px 3px 1px rgba(60, 64, 67, 0.15);\n",
              "      fill: #174EA6;\n",
              "    }\n",
              "\n",
              "    [theme=dark] .colab-df-convert {\n",
              "      background-color: #3B4455;\n",
              "      fill: #D2E3FC;\n",
              "    }\n",
              "\n",
              "    [theme=dark] .colab-df-convert:hover {\n",
              "      background-color: #434B5C;\n",
              "      box-shadow: 0px 1px 3px 1px rgba(0, 0, 0, 0.15);\n",
              "      filter: drop-shadow(0px 1px 2px rgba(0, 0, 0, 0.3));\n",
              "      fill: #FFFFFF;\n",
              "    }\n",
              "  </style>\n",
              "\n",
              "      <script>\n",
              "        const buttonEl =\n",
              "          document.querySelector('#df-6b9fd79e-4d1b-4f30-9552-1ceeef6ad123 button.colab-df-convert');\n",
              "        buttonEl.style.display =\n",
              "          google.colab.kernel.accessAllowed ? 'block' : 'none';\n",
              "\n",
              "        async function convertToInteractive(key) {\n",
              "          const element = document.querySelector('#df-6b9fd79e-4d1b-4f30-9552-1ceeef6ad123');\n",
              "          const dataTable =\n",
              "            await google.colab.kernel.invokeFunction('convertToInteractive',\n",
              "                                                     [key], {});\n",
              "          if (!dataTable) return;\n",
              "\n",
              "          const docLinkHtml = 'Like what you see? Visit the ' +\n",
              "            '<a target=\"_blank\" href=https://colab.research.google.com/notebooks/data_table.ipynb>data table notebook</a>'\n",
              "            + ' to learn more about interactive tables.';\n",
              "          element.innerHTML = '';\n",
              "          dataTable['output_type'] = 'display_data';\n",
              "          await google.colab.output.renderOutput(dataTable, element);\n",
              "          const docLink = document.createElement('div');\n",
              "          docLink.innerHTML = docLinkHtml;\n",
              "          element.appendChild(docLink);\n",
              "        }\n",
              "      </script>\n",
              "    </div>\n",
              "  </div>\n",
              "  "
            ]
          },
          "metadata": {},
          "execution_count": 2
        }
      ]
    },
    {
      "cell_type": "code",
      "metadata": {
        "colab": {
          "base_uri": "https://localhost:8080/"
        },
        "id": "rF8HqWp7G1U6",
        "outputId": "652f3606-06c3-4a24-ec90-8a7c490daded"
      },
      "source": [
        "dataset['class'].unique()"
      ],
      "execution_count": 3,
      "outputs": [
        {
          "output_type": "execute_result",
          "data": {
            "text/plain": [
              "array(['Iris-setosa', 'Iris-versicolor', 'Iris-virginica'], dtype=object)"
            ]
          },
          "metadata": {},
          "execution_count": 3
        }
      ]
    },
    {
      "cell_type": "markdown",
      "metadata": {
        "id": "Ris4-X3Ff_xn"
      },
      "source": [
        "We do not have any metric over the space of the classes, i.e., it is not possible to order them. In this case one **could not** consider regression techniques.\n",
        "\n",
        "Let us start with discriminating between Setosa and non-Setosa flowers according to the sepal length and width."
      ]
    },
    {
      "cell_type": "code",
      "metadata": {
        "id": "ki2ij-POGjWZ"
      },
      "source": [
        "from scipy.stats import zscore\n",
        "from sklearn.utils import shuffle\n",
        "\n",
        "X = zscore(dataset[['sepal-length', 'sepal-width']].values)\n",
        "t = dataset['class'].values == 'Iris-setosa'\n",
        "X, t = shuffle(X, t, random_state=0) # this time we have to do it!"
      ],
      "execution_count": 4,
      "outputs": []
    },
    {
      "cell_type": "code",
      "metadata": {
        "id": "mVGHFTQMJE1b"
      },
      "source": [
        "setosa = X[t]\n",
        "not_setosa = X[~t]"
      ],
      "execution_count": 5,
      "outputs": []
    },
    {
      "cell_type": "code",
      "metadata": {
        "colab": {
          "base_uri": "https://localhost:8080/",
          "height": 442
        },
        "id": "83k2e-uQJpqt",
        "outputId": "87358c19-f2a9-4ecb-c044-40970e567711"
      },
      "source": [
        "plt.figure(figsize=(12,7))\n",
        "plt.scatter(setosa[:, 0], setosa[:, 1], label='setosa')\n",
        "plt.scatter(not_setosa[:, 0], not_setosa[:, 1], label='not setosa', marker='x')\n",
        "\n",
        "plt.xlabel('x1')\n",
        "plt.ylabel('x2')\n",
        "plt.grid()\n",
        "plt.legend()\n",
        "plt.show()"
      ],
      "execution_count": 6,
      "outputs": [
        {
          "output_type": "display_data",
          "data": {
            "text/plain": [
              "<Figure size 864x504 with 1 Axes>"
            ],
            "image/png": "[encoded data removed]"
          },
          "metadata": {
            "needs_background": "light"
          }
        }
      ]
    },
    {
      "cell_type": "markdown",
      "metadata": {
        "id": "BEh5RxiOQsnv"
      },
      "source": [
        "## Discriminant Function Approach: the Perceptron\n",
        "\n",
        "At first, let us perform a classification with a perceptron classifier:\n",
        "- Hypothesis space: $y(\\mathbf{x}_n) = sgn(\\mathbf{w}^T \\mathbf{x}_n) = sgn(w_0 + x_{n1} w_1 + x_{n2} w_2)$;\n",
        "- Loss measure: Distance of misclassified points from the separating surface $L_P(\\mathbf{w}) = -\\sum_{n \\in \\mathcal{M}} \\mathbf{w}^T \\mathbf{x}_n C_n$;\n",
        "- Optimization method: Online Gradient Descent;\n",
        "\n",
        "where $sgn(\\cdot)$ is the sign function."
      ]
    },
    {
      "cell_type": "code",
      "metadata": {
        "colab": {
          "base_uri": "https://localhost:8080/"
        },
        "id": "NThT3ISOLiE9",
        "outputId": "781e2eed-540e-4e67-80d3-0cc7f1a5ab3b"
      },
      "source": [
        "from sklearn.linear_model import Perceptron\n",
        "perc_classifier = Perceptron(alpha=1, shuffle=False, random_state=0)\n",
        "perc_classifier.fit(X, t)"
      ],
      "execution_count": 7,
      "outputs": [
        {
          "output_type": "execute_result",
          "data": {
            "text/plain": [
              "Perceptron(alpha=1, shuffle=False)"
            ]
          },
          "metadata": {},
          "execution_count": 7
        }
      ]
    },
    {
      "cell_type": "code",
      "metadata": {
        "colab": {
          "base_uri": "https://localhost:8080/",
          "height": 442
        },
        "id": "-b4WRY3BTUiP",
        "outputId": "58902c59-e2a2-4899-c8c7-a91021fb2b38"
      },
      "source": [
        "plt.figure(figsize=(12,7))\n",
        "plt.scatter(setosa[:, 0], setosa[:, 1], label='setosa')\n",
        "plt.scatter(not_setosa[:, 0], not_setosa[:, 1], label='not setosa', marker='x')\n",
        "\n",
        "# Plot the DS\n",
        "\n",
        "coef = perc_classifier.coef_.flatten() # weights \n",
        "w0 = perc_classifier.intercept_ # bias\n",
        "w1 = coef[0]\n",
        "w2 = coef[1]\n",
        "\n",
        "step = 100\n",
        "ds_x1 = np.linspace(X[:,0].min(), X[:,0].max(), step) \n",
        "# Compute x2 componenent given some x1:\n",
        "# w^T x + x0 = 0 -> w0 + w1 * x1 + w2 * x2 = 0 -> x2 = - (w0 + w1*x1) / w2\n",
        "ds_x2 = [-(w0 + w1*x1) / w2 for x1 in ds_x1]\n",
        "plt.plot(ds_x1, ds_x2, label='DS')\n",
        "\n",
        "plt.xlabel('x1')\n",
        "plt.ylabel('x2')\n",
        "plt.grid()\n",
        "plt.legend()\n",
        "plt.show()"
      ],
      "execution_count": 8,
      "outputs": [
        {
          "output_type": "display_data",
          "data": {
            "text/plain": [
              "<Figure size 864x504 with 1 Axes>"
            ],
            "image/png": "[encoded data removed]"
          },
          "metadata": {
            "needs_background": "light"
          }
        }
      ]
    },
    {
      "cell_type": "markdown",
      "metadata": {
        "id": "nRAtdohEMcpH"
      },
      "source": [
        "### Evaluating Classification\n",
        "\n",
        "To evaluate the performances of the chosen method, we need to compute the *confusion matrix* which tells us the number of points which have been correctly classified and those which have been misclassified.\n",
        "\n",
        " <table style=\"width:100%\">\n",
        "  <tr>\n",
        "    <th>\n",
        "    <center> <img src='https://upload.wikimedia.org/wikipedia/commons/2/26/Precisionrecall.svg' width=300 /> </center>\n",
        "    </th>\n",
        "    <th>\\begin{array}{|l|l|l|}\n",
        "\t\\hline\n",
        "\t&\\text{Actual Class: 1}\t& \\text{Actual Class: 0}\\\\\n",
        "\t\\hline\n",
        "\t\\text{Predicted Class: 1}\t& tp\t& fp\\\\\n",
        "\t\\hline\n",
        "\t\\text{Predicted Class: 0}\t& fn\t& tn\\\\\n",
        "\t\\hline\n",
        "\\end{array}\n",
        "</th>\n",
        "  </tr>\n",
        "\n",
        "</table> \n",
        "\n",
        "\n",
        "\n",
        "\n",
        "Based on this matrix we can evaluate:\n",
        "- Accuracy: $Acc = \\frac{tp + tn}{N}$ fraction of the samples correctly classified in the dataset;\n",
        "- Precision $Pre = \\frac{tp}{tp + fp}$ fraction of samples correctly classified in the positive class among the ones classified in the positive class;\n",
        "- Recall: $Rec = \\frac{tp}{tp + fn}$ fraction of samples correctly classified in the positive class among the ones belonging to the positive class;\n",
        "- F1 score: $F1 = \\frac{2 \\cdot Pre \\cdot Rec}{Pre + Rec}$ harmonic mean of the precision and recall;\n",
        "\n",
        "where $tn$ is the number of true negatives, $fp$ is the number of false positives, $fn$ are the false negatives and $tn$ are the true negatives.\n",
        "Equivalently, we can look at the meaning of Precision and Recall by looking at the figure above.\n",
        "\n",
        "Remember that:\n",
        "- The higher these figures of merits the better the algorithm is performing.\n",
        "- These performance measures are **not** symmetric, but depends on the class we selected as positive.\n",
        "- Depending on the **application** one might switch the classes to have measures which better evaluate the predictive power of the classifier."
      ]
    },
    {
      "cell_type": "code",
      "metadata": {
        "id": "zWrRVXzJMt8T"
      },
      "source": [
        "from sklearn.metrics import confusion_matrix, accuracy_score, precision_score, recall_score, f1_score"
      ],
      "execution_count": 9,
      "outputs": []
    },
    {
      "cell_type": "code",
      "metadata": {
        "id": "IRZF9ggiunIA"
      },
      "source": [
        "t_pred = perc_classifier.predict(X)"
      ],
      "execution_count": 10,
      "outputs": []
    },
    {
      "cell_type": "code",
      "metadata": {
        "colab": {
          "base_uri": "https://localhost:8080/"
        },
        "id": "gSRXb5feN-d0",
        "outputId": "996fc38d-75bd-4f76-b7a6-9a28a82838ba"
      },
      "source": [
        "confusion_matrix(t, t_pred)"
      ],
      "execution_count": 11,
      "outputs": [
        {
          "output_type": "execute_result",
          "data": {
            "text/plain": [
              "array([[100,   0],\n",
              "       [  0,  50]])"
            ]
          },
          "metadata": {},
          "execution_count": 11
        }
      ]
    },
    {
      "cell_type": "code",
      "metadata": {
        "colab": {
          "base_uri": "https://localhost:8080/"
        },
        "id": "qNV35vVKOGHX",
        "outputId": "a122e61d-5746-4f76-b223-1dfe24eeddeb"
      },
      "source": [
        "accuracy_score(t, t_pred)"
      ],
      "execution_count": 12,
      "outputs": [
        {
          "output_type": "execute_result",
          "data": {
            "text/plain": [
              "1.0"
            ]
          },
          "metadata": {},
          "execution_count": 12
        }
      ]
    },
    {
      "cell_type": "code",
      "metadata": {
        "colab": {
          "base_uri": "https://localhost:8080/"
        },
        "id": "oamGmN8tOGkc",
        "outputId": "21f97fdd-ca1f-4481-8488-0a7de82d12d0"
      },
      "source": [
        "precision_score(t, t_pred)"
      ],
      "execution_count": 13,
      "outputs": [
        {
          "output_type": "execute_result",
          "data": {
            "text/plain": [
              "1.0"
            ]
          },
          "metadata": {},
          "execution_count": 13
        }
      ]
    },
    {
      "cell_type": "code",
      "metadata": {
        "colab": {
          "base_uri": "https://localhost:8080/"
        },
        "id": "DGTi55tQOOCr",
        "outputId": "c965f19d-6338-4c07-b8af-76f71e547f4e"
      },
      "source": [
        "recall_score(t, t_pred)"
      ],
      "execution_count": null,
      "outputs": [
        {
          "output_type": "execute_result",
          "data": {
            "text/plain": [
              "1.0"
            ]
          },
          "metadata": {},
          "execution_count": 14
        }
      ]
    },
    {
      "cell_type": "code",
      "metadata": {
        "colab": {
          "base_uri": "https://localhost:8080/"
        },
        "id": "s3lFrdxPOT7L",
        "outputId": "ed7c0324-6b68-41c2-d669-f6fc6408fcae"
      },
      "source": [
        "f1_score(t, t_pred)"
      ],
      "execution_count": 14,
      "outputs": [
        {
          "output_type": "execute_result",
          "data": {
            "text/plain": [
              "1.0"
            ]
          },
          "metadata": {},
          "execution_count": 14
        }
      ]
    },
    {
      "cell_type": "markdown",
      "metadata": {
        "id": "qNa7o0t9VrBp"
      },
      "source": [
        "### Implementing the Perceptron classifier"
      ]
    },
    {
      "cell_type": "code",
      "metadata": {
        "id": "njD0BxxNVnKi"
      },
      "source": [
        "w = np.ones(3)\n",
        "n_epochs = 10\n",
        "for epoch in range(n_epochs):\n",
        "  for i, (x_i, t_i) in enumerate(zip(X, t)):\n",
        "    # correct t_i to be in {-1, 1}\n",
        "    corr_t_i = 1 if t_i else -1\n",
        "    ext_x = np.concatenate([np.ones(1), x_i.flatten()])\n",
        "    if np.sign(w.dot(ext_x)) != corr_t_i:\n",
        "      w = w + ext_x * corr_t_i"
      ],
      "execution_count": 15,
      "outputs": []
    },
    {
      "cell_type": "markdown",
      "metadata": {
        "id": "BEY8zlazg3Xf"
      },
      "source": [
        "Notice that this procedure will stop if the classes are linearly separable, while it does not stop if the two classes are overlapping.\n",
        "\n",
        "Moreover, we do not know how long the procedure will take to reach convergence.\n",
        "\n",
        "This makes impossible to distinguish between a procedure which is *slowly converging* to a *non-linearly separable* setting.\n"
      ]
    },
    {
      "cell_type": "code",
      "metadata": {
        "id": "YK-tBaibAu9T"
      },
      "source": [
        "# Since we would rewrite the same code, it is a good idea to write a function\n",
        "def plot_ds(X, w, step=100, label='DS'):\n",
        "  ds_x1 = np.linspace(X[:,0].min(), X[:,0].max(), step) \n",
        "  ds_x2 = [-(w[0] + w[1]*x1) / w[2] for x1 in ds_x1]\n",
        "  plt.plot(ds_x1, ds_x2, label=label)"
      ],
      "execution_count": 16,
      "outputs": []
    },
    {
      "cell_type": "code",
      "metadata": {
        "colab": {
          "base_uri": "https://localhost:8080/",
          "height": 497
        },
        "id": "ENFrAY_-ctui",
        "outputId": "34e261b2-c299-4d0a-c6ba-faa9c37d0944"
      },
      "source": [
        "plt.figure(figsize=(12,7))\n",
        "plt.scatter(setosa[:, 0], setosa[:, 1], label='setosa')\n",
        "plt.scatter(not_setosa[:, 0], not_setosa[:, 1], label='not setosa', marker='x')\n",
        "\n",
        "# Implemented Perceptron\n",
        "plot_ds(X, w, label='Implemented Perceptron DS')\n",
        "\n",
        "# Sklearn Perceptron\n",
        "coef = perc_classifier.coef_.flatten() # weights \n",
        "w0 = perc_classifier.intercept_ # bias\n",
        "perc_w = np.array([w0, coef[0], coef[1]])\n",
        "plot_ds(X, perc_w, label='Scikit-Learn Perceptron DS')\n",
        "\n",
        "plt.xlabel('x1')\n",
        "plt.ylabel('x2')\n",
        "plt.grid()\n",
        "plt.legend()\n",
        "plt.show()"
      ],
      "execution_count": 17,
      "outputs": [
        {
          "output_type": "stream",
          "name": "stderr",
          "text": [
            "/usr/local/lib/python3.7/dist-packages/ipykernel_launcher.py:11: VisibleDeprecationWarning: Creating an ndarray from ragged nested sequences (which is a list-or-tuple of lists-or-tuples-or ndarrays with different lengths or shapes) is deprecated. If you meant to do this, you must specify 'dtype=object' when creating the ndarray.\n",
            "  # This is added back by InteractiveShellApp.init_path()\n"
          ]
        },
        {
          "output_type": "display_data",
          "data": {
            "text/plain": [
              "<Figure size 864x504 with 1 Axes>"
            ],
            "image/png": "[encoded data removed]"
          },
          "metadata": {
            "needs_background": "light"
          }
        }
      ]
    },
    {
      "cell_type": "markdown",
      "metadata": {
        "id": "wxIFp1WbZGhI"
      },
      "source": [
        "## Probabilistic Discriminative Approach: Logistic Regression\n",
        "\n",
        "Let us change the methods for the classification task and use a Logistic regression classifier with two classes:\n",
        "- Hypothesis space: $y_n = y(x_n) = \\sigma(w_0 + x_{n1} w_1 + x_{n2} w_2)$;\n",
        "- Loss measure: Loglikelihood $L(\\mathbf{w}) = -\\sum_{n=1}^N  [C_n \\ln y_n + (1 - C_n) \\ln (1 - y_n)]$;\n",
        "- Optimization method: Gradient Descent;\n",
        "\n",
        "where the sigmoid function is defined as $\\sigma(x) = \\frac{1}{1 + e^{-x}}$."
      ]
    },
    {
      "cell_type": "code",
      "metadata": {
        "colab": {
          "base_uri": "https://localhost:8080/"
        },
        "id": "oBKWho_Seb8Y",
        "outputId": "806ce826-d101-4381-e810-d5fbe13004b8"
      },
      "source": [
        "from sklearn.linear_model import LogisticRegression\n",
        "\n",
        "log_classifier = LogisticRegression(penalty='none') # regularization is applied as default\n",
        "log_classifier.fit(X, t)"
      ],
      "execution_count": 18,
      "outputs": [
        {
          "output_type": "execute_result",
          "data": {
            "text/plain": [
              "LogisticRegression(penalty='none')"
            ]
          },
          "metadata": {},
          "execution_count": 18
        }
      ]
    },
    {
      "cell_type": "code",
      "metadata": {
        "colab": {
          "base_uri": "https://localhost:8080/",
          "height": 514
        },
        "id": "4yrxMxtKgwPo",
        "outputId": "8d551926-5903-4e05-c09b-d413bbb778cb"
      },
      "source": [
        "# compare perceptron, by hand and logistic regression\n",
        "plt.figure(figsize=(12,7))\n",
        "plt.scatter(setosa[:, 0], setosa[:, 1], label='setosa')\n",
        "plt.scatter(not_setosa[:, 0], not_setosa[:, 1], label='not setosa', marker='x')\n",
        "\n",
        "# Implemented Perceptron\n",
        "plot_ds(X, w, label='Implemented Perceptron DS')\n",
        "\n",
        "# Sklearn Perceptron\n",
        "coef = perc_classifier.coef_.flatten() # weights \n",
        "w0 = perc_classifier.intercept_ # bias\n",
        "perc_w = np.array([w0, coef[0], coef[1]])\n",
        "plot_ds(X, perc_w, label='Scikit-Learn Perceptron DS')\n",
        "\n",
        "# Sklearn Logistic Regression\n",
        "coef = log_classifier.coef_.flatten() # weights \n",
        "w0 = log_classifier.intercept_ # bias\n",
        "log_w = np.array([w0, coef[0], coef[1]])\n",
        "plot_ds(X, log_w, label='Scikit-Learn Logistic Regression DS')\n",
        "\n",
        "plt.xlabel('x1')\n",
        "plt.ylabel('x2')\n",
        "plt.grid()\n",
        "plt.legend()\n",
        "plt.show()"
      ],
      "execution_count": 19,
      "outputs": [
        {
          "output_type": "stream",
          "name": "stderr",
          "text": [
            "/usr/local/lib/python3.7/dist-packages/ipykernel_launcher.py:12: VisibleDeprecationWarning: Creating an ndarray from ragged nested sequences (which is a list-or-tuple of lists-or-tuples-or ndarrays with different lengths or shapes) is deprecated. If you meant to do this, you must specify 'dtype=object' when creating the ndarray.\n",
            "  if sys.path[0] == '':\n",
            "/usr/local/lib/python3.7/dist-packages/ipykernel_launcher.py:18: VisibleDeprecationWarning: Creating an ndarray from ragged nested sequences (which is a list-or-tuple of lists-or-tuples-or ndarrays with different lengths or shapes) is deprecated. If you meant to do this, you must specify 'dtype=object' when creating the ndarray.\n"
          ]
        },
        {
          "output_type": "display_data",
          "data": {
            "text/plain": [
              "<Figure size 864x504 with 1 Axes>"
            ],
            "image/png": "[encoded data removed]"
          },
          "metadata": {
            "needs_background": "light"
          }
        }
      ]
    },
    {
      "cell_type": "markdown",
      "metadata": {
        "id": "iC6B8SgI-fkw"
      },
      "source": [
        "If we perform the $logit(x) = \\log(\\frac{x}{1-x})$ transformation to the output we have:\n",
        "$$ logit(y_n) = w_0 + x_{n1} w_1 + x_{n2} w_2,$$\n",
        "and, thus, we have the same statistical characterization of the parameters $\\mathbf{w}$ as we had in the linear regression if we consider as output a specific transformation of the target, i.e., we can perform hypothesis testing on the significance of the parameters."
      ]
    },
    {
      "cell_type": "markdown",
      "metadata": {
        "id": "ngTEMbeezfCw"
      },
      "source": [
        "### Multiple Classes"
      ]
    },
    {
      "cell_type": "code",
      "metadata": {
        "id": "rcDUVnyRzmet",
        "colab": {
          "base_uri": "https://localhost:8080/"
        },
        "outputId": "f43be991-2422-4d64-8507-bf5befb36cf0"
      },
      "source": [
        "multi_t = dataset['class']\n",
        "multi_log_classifier = LogisticRegression()\n",
        "multi_log_classifier.fit(X, multi_t)"
      ],
      "execution_count": 20,
      "outputs": [
        {
          "output_type": "execute_result",
          "data": {
            "text/plain": [
              "LogisticRegression()"
            ]
          },
          "metadata": {},
          "execution_count": 20
        }
      ]
    },
    {
      "cell_type": "markdown",
      "metadata": {
        "id": "Xa8I4Bl7ZTzA"
      },
      "source": [
        "## Probabilistic Generative Approach: Naive Bayes\n",
        "\n",
        "Generative models have the purpose of modeling the joint pdf of the couple input/output $p(C_k,\\mathbf{x})$, which allows us to generate also **new data** from what we learned.\n",
        "\n",
        "This is different from the probabilistic discriminative models, in which we are only interested in computing the probabilities that a given input is coming from a specific class $p(C_k | \\mathbf{x})$, which is not sufficient to produce new samples.\n",
        "\n",
        "Conversely, we will see how it is possible to generate new samples if we are provided with an approximation of the joint input/output distribution $p(C_k,\\mathbf{x})$.\n",
        "\n",
        "In this case, the Naive Bayes method considers the **naive assumption** that each input is conditionally (w.r.t. the class) independent from each other.\n",
        "If we consider the Bayes formula we have: \n",
        "\\begin{align*}\n",
        "\t& p(C_k | \\mathbf{x}) = \\frac{p(C_k) \\ p(\\mathbf{x} | C_k)}{p(\\mathbf{x})} \\\\\n",
        "\t& \\propto p(x_1, \\ldots, x_M, C_k)\\\\\n",
        "\t& = p(x_1 | x_2, \\ldots, x_M, C_k) p(x_2, \\ldots, x_M, C_k) \\\\\n",
        "\t& = p(x_1 | x_2, \\ldots, x_M, C_k) p(x_2 | x_3, \\ldots, x_M, C_k) p(x_3, \\ldots, x_n, C_k) \\\\\n",
        "\t& = p(x_1 \\vert x_2, \\ldots, x_M, C_k) \\ldots p(x_M | C_k) p(C_k) \\\\\n",
        "\t& = p(x_1 \\vert C_k) \\ldots p(x_M | C_k) p(C_k) \\\\\n",
        "\t& = p(C_k) \\prod_{j=1}^M p(x_j | C_k).\n",
        "\\end{align*}\n",
        "\n",
        "The decision function, which maximises the Maximum A Posteriori probability, is the following:\n",
        "\\begin{equation*}\n",
        "\ty(\\mathbf{x}) = \\arg \\max_k p(C_k) \\prod_{j=1}^M p(x_j | C_k),\n",
        "\\end{equation*}\n",
        "where as usual we do not consider the normalization factor $p(\\mathbf{x})$.\n",
        "\n",
        "In a specific case we have to define a prior distribution for the classes $p(C_k) \\ \\forall k$ and a distribution to compute the likelihood of the considered samples $p(x_j | C_k) \\ \\forall J, \\ \\forall k$.\n",
        "\n",
        "In the case of continuous variable one of the usual assumption is to use Gaussian distributions for each variable $p(x_j | C_k) = \\mathcal{N}(x_j;\\mu_{jk},\\sigma^2_{jk})$ and either a uniform prior $p(C_k) = \\frac{1}{K}$ or a multinomial prior based on the samples proportions $p(C_k) = \\frac{\\sum_{i=1}^N I \\{\\mathbf{x}_n \\in C_k \\}}{N}$, where $I\\{\\cdot\\}$ is the indicator function.\n",
        "\n",
        "The complete model of Naive Bayes is:\n",
        "- Hypothesis space: $y_n = y(x_n) = \\arg \\max_k p(C_k) \\prod_{j=1}^M p(x_j | C_k)$;\n",
        "- Loss measure: Log likelihood;\n",
        "- Optimization method: MLE.\n"
      ]
    },
    {
      "cell_type": "code",
      "metadata": {
        "colab": {
          "base_uri": "https://localhost:8080/"
        },
        "id": "bqcCcgv_Z-ZL",
        "outputId": "cae8d0bb-39f5-428d-8bbe-4f67dd6fd9f1"
      },
      "source": [
        "from sklearn.naive_bayes import GaussianNB\n",
        "\n",
        "gnb_classifier = GaussianNB()\n",
        "gnb_classifier.fit(X, t)\n",
        "t_pred = gnb_classifier.predict(X)\n",
        "\n",
        "print(accuracy_score(t, t_pred))\n",
        "print(recall_score(t, t_pred))\n",
        "print(precision_score(t, t_pred))\n",
        "print(confusion_matrix(t, t_pred))"
      ],
      "execution_count": 21,
      "outputs": [
        {
          "output_type": "stream",
          "name": "stdout",
          "text": [
            "0.9933333333333333\n",
            "0.98\n",
            "1.0\n",
            "[[100   0]\n",
            " [  1  49]]\n"
          ]
        }
      ]
    },
    {
      "cell_type": "markdown",
      "metadata": {
        "id": "GXthLrLUacdT"
      },
      "source": [
        "### Generate new data\n",
        "\n",
        "Using the estimated priors $p(C_k)$ and likelihoods $p(x_j | C_k) = \\mathcal{N}(x_j;\\mu_{jk},\\sigma^2_{jk})$ it is possible to generate new data.\n"
      ]
    },
    {
      "cell_type": "code",
      "metadata": {
        "id": "wg_P4DvTaS4C",
        "colab": {
          "base_uri": "https://localhost:8080/"
        },
        "outputId": "44d36fa7-b3bd-4f3d-a1e2-414f7346f924"
      },
      "source": [
        "N = 100\n",
        "\n",
        "new_samples = np.empty((N, 2))\n",
        "new_t = np.empty(N, dtype=bool)\n",
        "\n",
        "for i in range(N):\n",
        "  # Based on the class priors, we sample a class\n",
        "  class_ = np.random.choice([0,1], p=gnb_classifier.class_prior_)\n",
        "  new_t[i] = class_\n",
        "  \n",
        "  # For each feature, we have a normal distribution of its likelihood given the class\n",
        "  \n",
        "  # theta: mean of each feature per class (n_classes, n_features)\n",
        "  thetas = gnb_classifier.theta_[class_, :]\n",
        "\n",
        "  # sigma: variance of each feature per class (n_classes, n_features)\n",
        "  sigmas = gnb_classifier.sigma_[class_, :]\n",
        "\n",
        "  # sample x1\n",
        "  new_samples[i,0] = np.random.normal(thetas[0], sigmas[0], 1)\n",
        "  # sample x2\n",
        "  new_samples[i,1] = np.random.normal(thetas[1], sigmas[1], 1)\n",
        "\n",
        "# divide samples by class\n",
        "new_setosa = new_samples[new_t, :]\n",
        "new_not_setosa = new_samples[~new_t, :]"
      ],
      "execution_count": 22,
      "outputs": [
        {
          "output_type": "stream",
          "name": "stderr",
          "text": [
            "/usr/local/lib/python3.7/dist-packages/sklearn/utils/deprecation.py:103: FutureWarning: Attribute `sigma_` was deprecated in 1.0 and will be removed in1.2. Use `var_` instead.\n",
            "  warnings.warn(msg, category=FutureWarning)\n"
          ]
        }
      ]
    },
    {
      "cell_type": "code",
      "metadata": {
        "colab": {
          "base_uri": "https://localhost:8080/",
          "height": 442
        },
        "id": "AhgePJ8xFj9j",
        "outputId": "3027cf8d-6304-43fd-e436-4a879250dfbf"
      },
      "source": [
        "plt.figure(figsize=(12,7))\n",
        "\n",
        "# plot real samples\n",
        "plt.scatter(setosa[:, 0], setosa[:, 1], label='setosa', color='red')\n",
        "plt.scatter(not_setosa[:, 0], not_setosa[:, 1], label='not setosa', color='blue')\n",
        "\n",
        "# plot generated samples\n",
        "plt.scatter(new_setosa[:, 0], new_setosa[:, 1], label='new, setosa', color='red', marker='x', alpha=0.3)\n",
        "plt.scatter(new_not_setosa[:, 0], new_not_setosa[:, 1], label='new, not setosa', color='blue', marker='x', alpha=0.3)\n",
        "\n",
        "plt.xlabel('x1')\n",
        "plt.ylabel('x2')\n",
        "plt.grid()\n",
        "plt.legend()\n",
        "plt.show()"
      ],
      "execution_count": 23,
      "outputs": [
        {
          "output_type": "display_data",
          "data": {
            "text/plain": [
              "<Figure size 864x504 with 1 Axes>"
            ],
            "image/png": "[encoded data removed]"
          },
          "metadata": {
            "needs_background": "light"
          }
        }
      ]
    },
    {
      "cell_type": "markdown",
      "metadata": {
        "id": "rAdrDasEPmOo"
      },
      "source": [
        "\n",
        "Notice that the Naive Bayes is **not** a Bayesian method.\n",
        "\n",
        "Indeed, the priors we compute are estimated from data, and not updated using likelihoods.\n",
        "\n",
        "This makes Naive Bayes a method which uses the Bayes theorem to model the independence among the input, given the classes."
      ]
    }
  ]
}